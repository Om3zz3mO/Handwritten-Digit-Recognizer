{
  "nbformat": 4,
  "nbformat_minor": 0,
  "metadata": {
    "colab": {
      "name": "Handwritten Digit Recognizer.ipynb",
      "provenance": [],
      "collapsed_sections": []
    },
    "kernelspec": {
      "name": "python3",
      "display_name": "Python 3"
    },
    "language_info": {
      "name": "python"
    }
  },
  "cells": [
    {
      "cell_type": "code",
      "execution_count": null,
      "metadata": {
        "id": "5XJ1CoS5ifS0"
      },
      "outputs": [],
      "source": [
        "import pandas as pd\n",
        "import tensorflow as tf\n",
        "import numpy as np\n",
        "import cv2 as cv  \n",
        "import matplotlib.pyplot as plt\n",
        "from tensorflow.python.keras.metrics import accuracy"
      ]
    },
    {
      "cell_type": "code",
      "source": [
        "mnist = tf.keras.datasets.mnist\n",
        "\n",
        "(x_train, y_train),(x_test,y_test)=mnist.load_data()# split the data in training set as tuple\n",
        "\n",
        "x_train = tf.keras.utils.normalize(x_train , axis = 1)\n",
        "x_test = tf.keras.utils.normalize(x_test , axis = 1)\n",
        "\n",
        "model= tf.keras.models.Sequential()\n",
        "model.add(tf.keras.layers.Flatten(input_shape=(28,28)))\n",
        "model.add(tf.keras.layers.Dense(units=128,activation=tf.nn.relu))\n",
        "model.add(tf.keras.layers.Dense(units=128,activation=tf.nn.relu))\n",
        "model.add(tf.keras.layers.Dense(units=128,activation=tf.nn.relu))\n",
        "model.add(tf.keras.layers.Dense(units=128,activation=tf.nn.relu))\n",
        "model.add(tf.keras.layers.Dense(units=10,activation=tf.nn.softmax))\n",
        "model.compile(optimizer='adam' , loss='sparse_categorical_crossentropy',metrics=['accuracy'])\n",
        "model.fit(x_train,y_train,batch_size=10, epochs=4)#As the number of epochs increases beyond 11,chance of overfitting of the model on training data\n",
        "\n",
        "loss , accuracy  =model.evaluate(x_test,y_test)\n",
        "print(accuracy)\n",
        "print(loss)\n"
      ],
      "metadata": {
        "colab": {
          "base_uri": "https://localhost:8080/"
        },
        "id": "9rkMoqtHlcpt",
        "outputId": "77683f67-956f-42d5-e3f6-e6d90b85eee0"
      },
      "execution_count": null,
      "outputs": [
        {
          "output_type": "stream",
          "name": "stdout",
          "text": [
            "Epoch 1/4\n",
            "6000/6000 [==============================] - 15s 2ms/step - loss: 0.2367 - accuracy: 0.9283\n",
            "Epoch 2/4\n",
            "6000/6000 [==============================] - 14s 2ms/step - loss: 0.1154 - accuracy: 0.9649\n",
            "Epoch 3/4\n",
            "6000/6000 [==============================] - 14s 2ms/step - loss: 0.0830 - accuracy: 0.9749\n",
            "Epoch 4/4\n",
            "6000/6000 [==============================] - 14s 2ms/step - loss: 0.0690 - accuracy: 0.9793\n",
            "313/313 [==============================] - 1s 2ms/step - loss: 0.1048 - accuracy: 0.9716\n",
            "0.9715999960899353\n",
            "0.10483067482709885\n"
          ]
        }
      ]
    },
    {
      "cell_type": "code",
      "source": [
        "for x in range(1, 5):\n",
        "    # now we are going to read images it with open cv\n",
        "    #img = cv.imread('7.png')[:, :, 0]\n",
        "    img = cv.imread(f'{x}.png')[:, :, 0]  # all of it and 1st and last one\n",
        "    img = np.invert(np.array([img]))  # invert black to white in images so that model wont get confues\n",
        "    prediction = model.predict(img)\n",
        "    print(\"----------------\")\n",
        "    print(\"The predicted value is : \", np.argmax(prediction))\n",
        "    print(\"----------------\")\n",
        "    plt.imshow(img[0], cmap=plt.cm.binary)  # change the color in black and white\n",
        "    plt.show()"
      ],
      "metadata": {
        "colab": {
          "base_uri": "https://localhost:8080/",
          "height": 1000
        },
        "id": "oQNqvDeClee3",
        "outputId": "6fe6a2da-7187-4106-d8c0-880f428ebe9e"
      },
      "execution_count": null,
      "outputs": [
        {
          "output_type": "stream",
          "name": "stdout",
          "text": [
            "----------------\n",
            "The predicted value is :  4\n",
            "----------------\n"
          ]
        },
        {
          "output_type": "display_data",
          "data": {
            "text/plain": [
              "<Figure size 432x288 with 1 Axes>"
            ],
            "image/png": "[encoded data removed]"
          },
          "metadata": {
            "needs_background": "light"
          }
        },
        {
          "output_type": "stream",
          "name": "stdout",
          "text": [
            "----------------\n",
            "The predicted value is :  3\n",
            "----------------\n"
          ]
        },
        {
          "output_type": "display_data",
          "data": {
            "text/plain": [
              "<Figure size 432x288 with 1 Axes>"
            ],
            "image/png": "[encoded data removed]"
          },
          "metadata": {
            "needs_background": "light"
          }
        },
        {
          "output_type": "stream",
          "name": "stdout",
          "text": [
            "----------------\n",
            "The predicted value is :  2\n",
            "----------------\n"
          ]
        },
        {
          "output_type": "display_data",
          "data": {
            "text/plain": [
              "<Figure size 432x288 with 1 Axes>"
            ],
            "image/png": "[encoded data removed]"
          },
          "metadata": {
            "needs_background": "light"
          }
        },
        {
          "output_type": "stream",
          "name": "stdout",
          "text": [
            "----------------\n",
            "The predicted value is :  0\n",
            "----------------\n"
          ]
        },
        {
          "output_type": "display_data",
          "data": {
            "text/plain": [
              "<Figure size 432x288 with 1 Axes>"
            ],
            "image/png": "[encoded data removed]"
          },
          "metadata": {
            "needs_background": "light"
          }
        }
      ]
    }
  ]
}